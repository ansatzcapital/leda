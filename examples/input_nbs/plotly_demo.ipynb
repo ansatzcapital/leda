{
 "cells": [
  {
   "cell_type": "markdown",
   "metadata": {},
   "source": [
    "# leda demo: plotly"
   ]
  },
  {
   "cell_type": "code",
   "execution_count": null,
   "metadata": {},
   "outputs": [],
   "source": [
    "import abc\n",
    "import dataclasses\n",
    "from typing import Optional\n",
    "\n",
    "import numpy as np\n",
    "import pandas as pd\n",
    "import plotly.graph_objs as go\n",
    "from typing_extensions import override\n",
    "\n",
    "import leda"
   ]
  },
  {
   "cell_type": "code",
   "execution_count": null,
   "metadata": {},
   "outputs": [],
   "source": [
    "leda.init(\"plotly\")"
   ]
  },
  {
   "cell_type": "markdown",
   "metadata": {},
   "source": [
    "## Info"
   ]
  },
  {
   "cell_type": "markdown",
   "metadata": {},
   "source": [
    "**Widgets**\n",
    "\n",
    "Use the `%%interact expr0;expr1;...` cell magic to set widgets for that cell.\n",
    "\n",
    "Each expression is of the form `x=y`, where `x` becomes the local var of the cell and `y` can be a:\n",
    "- `list` to indicate choices for a dropdown widget\n",
    "- `tuple` to indicate values for an int slider (start, stop, and optional step).\n",
    "\n",
    "E.g.:\n",
    "\n",
    "```python\n",
    "%%interact column=list(df.columns)\n",
    "%%interact column=list(df.columns);mult=[1, 2, 3]\n",
    "%%interact column=list(df.columns);window=(10, 50)\n",
    "%%interact column=list(df.columns);window=(10, 50, 5)\n",
    "```\n",
    "\n",
    "**Table of Contents**\n",
    "\n",
    "Use the `%toc` line magic to substitute with a table of contents in static mode.\n",
    "\n",
    "**Toggles**\n",
    "\n",
    "Click the `Toggle input cells` button at the bottom to reveal input cells."
   ]
  },
  {
   "cell_type": "markdown",
   "metadata": {},
   "source": [
    "## Data"
   ]
  },
  {
   "cell_type": "markdown",
   "metadata": {},
   "source": [
    "Using randomly generated data (with fixed seed)."
   ]
  },
  {
   "cell_type": "code",
   "execution_count": null,
   "metadata": {},
   "outputs": [],
   "source": [
    "df = pd.DataFrame(\n",
    "    np.random.RandomState(42).rand(100, 10), columns=list(\"abcdefghij\")\n",
    ")"
   ]
  },
  {
   "cell_type": "markdown",
   "metadata": {},
   "source": [
    "## Visualization"
   ]
  },
  {
   "cell_type": "code",
   "execution_count": null,
   "metadata": {},
   "outputs": [],
   "source": [
    "def plot_df(df: pd.DataFrame, title: Optional[str] = None) -> go.Figure:\n",
    "    fig = go.Figure()\n",
    "\n",
    "    colors = [\n",
    "        \"rgb(0, 0, 255)\",\n",
    "        \"rgb(255, 0, 0)\",\n",
    "        \"rgb(0, 255, 0)\",\n",
    "        \"rgb(0, 0, 0)\",\n",
    "        \"rgb(128, 128, 128)\",\n",
    "        \"rgb(255, 255, 0)\",\n",
    "        \"rgb(0, 255, 255)\",\n",
    "        \"rgb(255, 0, 255)\",\n",
    "        \"rgb(200, 200, 200)\",\n",
    "    ]\n",
    "    for idx, column in enumerate(df.columns):\n",
    "        color = colors[idx % len(colors)]\n",
    "\n",
    "        fig.add_trace(\n",
    "            go.Scatter(\n",
    "                x=df.index,\n",
    "                y=df[column],\n",
    "                mode=\"lines\",\n",
    "                marker={\"color\": color},\n",
    "                name=str(column),\n",
    "            )\n",
    "        )\n",
    "\n",
    "    if title:\n",
    "        fig.update_layout(title=title)\n",
    "\n",
    "    return fig"
   ]
  },
  {
   "cell_type": "markdown",
   "metadata": {},
   "source": [
    "### Simple"
   ]
  },
  {
   "cell_type": "code",
   "execution_count": null,
   "metadata": {},
   "outputs": [],
   "source": [
    "%%interact column=list(df.columns);mult=[1, 2, 3]\n",
    "plot_df(df[[column]] * mult, title=f\"column={column!r}, mult={mult}\")"
   ]
  },
  {
   "cell_type": "code",
   "execution_count": null,
   "metadata": {},
   "outputs": [],
   "source": [
    "%%interact column=list(df.columns);window=(10, 50, 5)\n",
    "fig = plot_df(\n",
    "    df[[column]].iloc[-window:], title=f\"column={column!r}, window={window}\"\n",
    ")\n",
    "fig"
   ]
  },
  {
   "cell_type": "markdown",
   "metadata": {},
   "source": [
    "### Objects as Params"
   ]
  },
  {
   "cell_type": "code",
   "execution_count": null,
   "metadata": {},
   "outputs": [],
   "source": [
    "@dataclasses.dataclass(frozen=True)\n",
    "class Calculator(abc.ABC):\n",
    "    @abc.abstractmethod\n",
    "    def calc(self, df: pd.DataFrame) -> pd.DataFrame: ...\n",
    "\n",
    "\n",
    "@dataclasses.dataclass(frozen=True)\n",
    "class CumSumCalculator(Calculator):\n",
    "    @override\n",
    "    def calc(self, df: pd.DataFrame) -> pd.DataFrame:\n",
    "        return df.cumsum()\n",
    "\n",
    "\n",
    "@dataclasses.dataclass(frozen=True)\n",
    "class EWMMeanCalculator(Calculator):\n",
    "    com: float\n",
    "\n",
    "    @override\n",
    "    def calc(self, df: pd.DataFrame) -> pd.DataFrame:\n",
    "        return df.ewm(com=self.com).mean()\n",
    "\n",
    "\n",
    "calcs = [\n",
    "    CumSumCalculator(),\n",
    "    EWMMeanCalculator(com=5),\n",
    "    EWMMeanCalculator(com=10),\n",
    "]"
   ]
  },
  {
   "cell_type": "code",
   "execution_count": null,
   "metadata": {},
   "outputs": [],
   "source": [
    "%%interact column_group=[\"abc\", \"def\", \"ghij\"];calc=calcs\n",
    "calced_df = calc.calc(df[list(column_group)])\n",
    "title = f\"column_group={column_group!r}, calc={calc}\"\n",
    "plot_df(calced_df, title=title)"
   ]
  }
 ],
 "metadata": {
  "kernelspec": {
   "display_name": "Python 3",
   "language": "python",
   "name": "python3"
  },
  "language_info": {
   "codemirror_mode": {
    "name": "ipython",
    "version": 3
   },
   "file_extension": ".py",
   "mimetype": "text/x-python",
   "name": "python",
   "nbconvert_exporter": "python",
   "pygments_lexer": "ipython3",
   "version": "3.8.10"
  }
 },
 "nbformat": 4,
 "nbformat_minor": 2
}
