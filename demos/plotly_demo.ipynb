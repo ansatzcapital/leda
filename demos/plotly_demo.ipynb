{
 "cells": [
  {
   "cell_type": "markdown",
   "metadata": {},
   "source": [
    "# leda demo: plotly"
   ]
  },
  {
   "cell_type": "code",
   "execution_count": null,
   "metadata": {},
   "outputs": [],
   "source": [
    "from typing import Optional\n",
    "\n",
    "import leda\n",
    "import pandas as pd\n",
    "import plotly.express as px\n",
    "import plotly.graph_objs as go"
   ]
  },
  {
   "cell_type": "code",
   "execution_count": null,
   "metadata": {},
   "outputs": [],
   "source": [
    "leda.init(\"plotly\")"
   ]
  },
  {
   "cell_type": "code",
   "execution_count": null,
   "metadata": {},
   "outputs": [],
   "source": [
    "def plot_df(df: pd.DataFrame, title: Optional[str] = None) -> go.Figure:\n",
    "    fig = go.Figure()\n",
    "\n",
    "    colors = [\"rgb(0, 0, 0)\", \"rgb(128, 128, 128)\", \"rgb(200, 200, 200)\",\n",
    "              \"rgb(255, 0, 0)\", \"rgb(0, 255, 0)\", \"rgb(0, 0, 255)\",\n",
    "              \"rgb(255, 255, 0)\", \"rgb(0, 255, 255)\", \"rgb(255, 0, 255)\",\n",
    "             ]\n",
    "    for idx, column in enumerate(df.columns):\n",
    "        color = colors[idx % len(colors)]\n",
    "\n",
    "        fig.add_trace(\n",
    "            go.Scatter(\n",
    "                x=df.index,\n",
    "                y=df[column],\n",
    "                mode=\"lines\",\n",
    "                marker={\"color\": color},\n",
    "                name=str(column),\n",
    "            )\n",
    "        )\n",
    "    \n",
    "    if title:\n",
    "        fig.update_layout(title=title)\n",
    "        \n",
    "    return fig"
   ]
  },
  {
   "cell_type": "code",
   "execution_count": null,
   "metadata": {},
   "outputs": [],
   "source": [
    "df = pd.DataFrame({\"a\": [1, 4, 9]})"
   ]
  },
  {
   "cell_type": "code",
   "execution_count": null,
   "metadata": {},
   "outputs": [],
   "source": [
    "%%interact mult=[\"1\", \"2\", \"3\"]\n",
    "this_df = df.copy()\n",
    "\n",
    "mult = float(mult)\n",
    "this_df[\"b with long name\"] = df[\"a\"] * mult\n",
    "this_df[\"c with an even longer name.................................\"] = df[\"a\"] * mult * mult\n",
    "this_df[\"d with an even longer name.................................\"] = df[\"a\"] * mult * mult\n",
    "this_df[\"e with an even longer name.................................\"] = df[\"a\"] * mult * mult\n",
    "plot_df(this_df, title=f\"Mult={mult}\")"
   ]
  },
  {
   "cell_type": "code",
   "execution_count": null,
   "metadata": {},
   "outputs": [],
   "source": [
    "mult = 1.5\n",
    "df[\"b with long name\"] = df[\"a\"] * mult\n",
    "plot_df(df, title=f\"Mult={mult}\")"
   ]
  }
 ],
 "metadata": {
  "language_info": {
   "codemirror_mode": {
    "name": "ipython",
    "version": 3
   },
   "file_extension": ".py",
   "mimetype": "text/x-python",
   "name": "python",
   "nbconvert_exporter": "python",
   "pygments_lexer": "ipython3",
   "version": "3.8.10"
  }
 },
 "nbformat": 4,
 "nbformat_minor": 2
}
