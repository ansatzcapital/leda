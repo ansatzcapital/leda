{
 "cells": [
  {
   "cell_type": "markdown",
   "metadata": {},
   "source": [
    "# leda demo: matplotlib"
   ]
  },
  {
   "cell_type": "code",
   "execution_count": null,
   "metadata": {},
   "outputs": [],
   "source": [
    "import dataclasses\n",
    "\n",
    "import leda\n",
    "import matplotlib\n",
    "import matplotlib.pyplot as plt\n",
    "import numpy as np\n",
    "import pandas as pd"
   ]
  },
  {
   "cell_type": "code",
   "execution_count": null,
   "metadata": {},
   "outputs": [],
   "source": [
    "leda.init(\"matplotlib\")\n",
    "plt.rcParams.update({\"figure.max_open_warning\": 0})"
   ]
  },
  {
   "cell_type": "code",
   "execution_count": null,
   "metadata": {
    "scrolled": true
   },
   "outputs": [],
   "source": [
    "%toc"
   ]
  },
  {
   "cell_type": "markdown",
   "metadata": {},
   "source": [
    "## Info"
   ]
  },
  {
   "cell_type": "markdown",
   "metadata": {},
   "source": [
    "**Widgets**\n",
    "\n",
    "Use the `%%interact expr0;expr1;...` cell magic to set widgets for that cell.\n",
    "\n",
    "Each expression is of the form `x=y`, where `x` becomes the local var of the cell and `y` can be a:\n",
    "- `list` to indicate choices for a dropdown widget\n",
    "- `tuple` to indicate values for an int slider (start, stop, and optional step).\n",
    "\n",
    "E.g.:\n",
    "\n",
    "```python\n",
    "%%interact column=list(df.columns)\n",
    "%%interact column=list(df.columns);mult=[1, 2, 3]\n",
    "%%interact column=list(df.columns);window=(10, 50)\n",
    "%%interact column=list(df.columns);window=(10, 50, 5)\n",
    "```\n",
    "\n",
    "**Table of Contents**\n",
    "\n",
    "Use the `%toc` line magic to substitute with a table of contents in static mode.\n",
    "\n",
    "**Toggles**\n",
    "\n",
    "Click the `Toggle input cells` button at the bottom to reveal input cells."
   ]
  },
  {
   "cell_type": "markdown",
   "metadata": {},
   "source": [
    "## Data"
   ]
  },
  {
   "cell_type": "markdown",
   "metadata": {},
   "source": [
    "Using randomly generated data (with fixed seed)."
   ]
  },
  {
   "cell_type": "code",
   "execution_count": null,
   "metadata": {},
   "outputs": [],
   "source": [
    "df = pd.DataFrame(np.random.RandomState(42).rand(100, 10), columns=list(\"abcdefghij\"))"
   ]
  },
  {
   "cell_type": "markdown",
   "metadata": {},
   "source": [
    "## Visualization"
   ]
  },
  {
   "cell_type": "markdown",
   "metadata": {},
   "source": [
    "### Simple"
   ]
  },
  {
   "cell_type": "code",
   "execution_count": null,
   "metadata": {},
   "outputs": [],
   "source": [
    "%%interact column=list(df.columns);mult=[1, 2, 3]\n",
    "(df[[column]] * mult).plot(figsize=(15, 8), lw=2, title=f\"column={column!r}, mult={mult}\")"
   ]
  },
  {
   "cell_type": "code",
   "execution_count": null,
   "metadata": {},
   "outputs": [],
   "source": [
    "%%interact column=list(df.columns);window=(10, 50, 5)\n",
    "ax = df[[column]].iloc[-window:].plot(figsize=(15, 8), lw=2,\n",
    "                                      title=f\"column={column!r}, window={window}\")\n",
    "ax"
   ]
  },
  {
   "cell_type": "markdown",
   "metadata": {},
   "source": [
    "### Objects as Params"
   ]
  },
  {
   "cell_type": "code",
   "execution_count": null,
   "metadata": {},
   "outputs": [],
   "source": [
    "@dataclasses.dataclass(frozen=True)\n",
    "class Calculator:\n",
    "    def calc(self, df: pd.DataFrame) -> pd.DataFrame:\n",
    "        raise NotImplementedError\n",
    "\n",
    "\n",
    "@dataclasses.dataclass(frozen=True)\n",
    "class CumSumCalculator(Calculator):\n",
    "    def calc(self, df: pd.DataFrame) -> pd.DataFrame:\n",
    "        return df.cumsum()\n",
    "\n",
    "    \n",
    "@dataclasses.dataclass(frozen=True)\n",
    "class EWMMeanCalculator(Calculator):\n",
    "    com: float\n",
    "    \n",
    "    def calc(self, df: pd.DataFrame) -> pd.DataFrame:\n",
    "        return df.ewm(com=self.com).mean()\n",
    "    \n",
    "\n",
    "calcs = [CumSumCalculator(), EWMMeanCalculator(com=5), EWMMeanCalculator(com=10)]"
   ]
  },
  {
   "cell_type": "code",
   "execution_count": null,
   "metadata": {},
   "outputs": [],
   "source": [
    "%%interact column_group=[\"abc\", \"def\", \"ghij\"];calc=calcs\n",
    "calced_df = calc.calc(df[list(column_group)])\n",
    "calced_df.plot(figsize=(15, 8), lw=2, title=f\"column_group={column_group!r}, calc={calc}\")"
   ]
  }
 ],
 "metadata": {
  "kernelspec": {
   "display_name": "Python 3",
   "language": "python",
   "name": "python3"
  },
  "language_info": {
   "codemirror_mode": {
    "name": "ipython",
    "version": 3
   },
   "file_extension": ".py",
   "mimetype": "text/x-python",
   "name": "python",
   "nbconvert_exporter": "python",
   "pygments_lexer": "ipython3",
   "version": "3.8.10"
  }
 },
 "nbformat": 4,
 "nbformat_minor": 2
}
